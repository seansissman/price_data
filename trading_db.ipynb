{
 "cells": [
  {
   "cell_type": "code",
   "execution_count": 13,
   "metadata": {
    "collapsed": false,
    "scrolled": true
   },
   "outputs": [
    {
     "name": "stdout",
     "output_type": "stream",
     "text": [
      "closing\n"
     ]
    },
    {
     "ename": "TypeError",
     "evalue": "Required argument 'sql' (pos 1) not found",
     "traceback": [
      "\u001b[0;31m---------------------------------------------------------------------------\u001b[0m",
      "\u001b[0;31mTypeError\u001b[0m                                 Traceback (most recent call last)",
      "\u001b[0;32m<ipython-input-13-9e3281f992cf>\u001b[0m in \u001b[0;36m<module>\u001b[0;34m()\u001b[0m\n\u001b[1;32m     34\u001b[0m \u001b[0;34m\u001b[0m\u001b[0m\n\u001b[1;32m     35\u001b[0m \u001b[0;32mwith\u001b[0m \u001b[0mopen\u001b[0m\u001b[0;34m(\u001b[0m\u001b[0mfilename\u001b[0m\u001b[0;34m,\u001b[0m \u001b[0;34m'r'\u001b[0m\u001b[0;34m)\u001b[0m \u001b[0;32mas\u001b[0m \u001b[0mf\u001b[0m\u001b[0;34m:\u001b[0m\u001b[0;34m\u001b[0m\u001b[0m\n\u001b[0;32m---> 36\u001b[0;31m     \u001b[0mpopulate_table\u001b[0m\u001b[0;34m(\u001b[0m\u001b[0mf\u001b[0m\u001b[0;34m)\u001b[0m\u001b[0;34m\u001b[0m\u001b[0m\n\u001b[0m",
      "\u001b[0;32m<ipython-input-13-9e3281f992cf>\u001b[0m in \u001b[0;36mpopulate_table\u001b[0;34m(file_obj)\u001b[0m\n\u001b[1;32m     21\u001b[0m                     \u001b[0;34m\"split_ratio REAL, adj_open REAL, adj_high REAL, \"\u001b[0m\u001b[0;34m\u001b[0m\u001b[0m\n\u001b[1;32m     22\u001b[0m                     \"adj_low REAL, adj_close REAL, adj_volume REAL)\")\n\u001b[0;32m---> 23\u001b[0;31m         \u001b[0mcur\u001b[0m\u001b[0;34m.\u001b[0m\u001b[0mcopy_expert\u001b[0m\u001b[0;34m(\u001b[0m\u001b[0mpopulate_tablesql\u001b[0m\u001b[0;34m=\u001b[0m\u001b[0msql_copy\u001b[0m \u001b[0;34m%\u001b[0m \u001b[0;34m'price_data'\u001b[0m\u001b[0;34m,\u001b[0m \u001b[0mfile\u001b[0m\u001b[0;34m=\u001b[0m\u001b[0mfile_obj\u001b[0m\u001b[0;34m)\u001b[0m\u001b[0;34m\u001b[0m\u001b[0m\n\u001b[0m\u001b[1;32m     24\u001b[0m         \u001b[0mcon\u001b[0m\u001b[0;34m.\u001b[0m\u001b[0mcommit\u001b[0m\u001b[0;34m(\u001b[0m\u001b[0;34m)\u001b[0m\u001b[0;34m\u001b[0m\u001b[0m\n\u001b[1;32m     25\u001b[0m     \u001b[0;32mexcept\u001b[0m \u001b[0mpsycopg2\u001b[0m\u001b[0;34m.\u001b[0m\u001b[0mOperationalError\u001b[0m\u001b[0;34m,\u001b[0m \u001b[0me\u001b[0m\u001b[0;34m:\u001b[0m\u001b[0;34m\u001b[0m\u001b[0m\n",
      "\u001b[0;31mTypeError\u001b[0m: Required argument 'sql' (pos 1) not found"
     ],
     "output_type": "error"
    }
   ],
   "source": [
    "import psycopg2\n",
    "\n",
    "\n",
    "def populate_table(file_obj):\n",
    "    \"\"\" Inserts CSV price data into price_data table. \"\"\"\n",
    "    sql_copy = \"\"\"\n",
    "            COPY %s FROM STDIN WITH\n",
    "            CSV\n",
    "            HEADER\n",
    "            DELIMITER AS ','\n",
    "        \"\"\"\n",
    "    con = None\n",
    "    try:\n",
    "        con = psycopg2.connect(\"dbname='tradingdb' user='trader' \"\n",
    "                               \"host='localhost' password='123456'\")\n",
    "        cur = con.cursor()\n",
    "        cur.execute(\"DROP TABLE IF EXISTS price_data\")\n",
    "        cur.execute(\"CREATE TABLE IF NOT EXISTS price_data(ticker VARCHAR(30), \"\n",
    "                    \"date DATE, open REAL, high REAL, low REAL, \"\n",
    "                    \"close REAL, volume REAL, ex_dividend REAL, \"\n",
    "                    \"split_ratio REAL, adj_open REAL, adj_high REAL, \"\n",
    "                    \"adj_low REAL, adj_close REAL, adj_volume REAL)\")\n",
    "        cur.copy_expert(populate_tablesql=sql_copy % 'price_data', file=file_obj)\n",
    "        con.commit()  \n",
    "    except psycopg2.OperationalError, e:\n",
    "        print \"Unable to connect to the database:\\n\" + str(e)\n",
    "\n",
    "    finally:\n",
    "        if con:            \n",
    "            print \"closing\"\n",
    "            con.close()\n",
    "\n",
    "filename = r'/home/sean/Downloads/WIKI_PRICES_94e7dffd9b9d42015f1e81fff171a3a7.csv'\n",
    "\n",
    "with open(filename, 'r') as f:\n",
    "    populate_table(f)"
   ]
  },
  {
   "cell_type": "code",
   "execution_count": null,
   "metadata": {},
   "outputs": [],
   "source": [
    ""
   ]
  },
  {
   "cell_type": "code",
   "execution_count": 14,
   "metadata": {},
   "outputs": [
    {
     "data": {
      "text/plain": [
       "datetime.date(2016, 11, 16)"
      ]
     },
     "execution_count": 14,
     "metadata": {},
     "output_type": "execute_result"
    }
   ],
   "source": [
    "import datetime\n",
    "a = datetime.date.today()\n",
    "a"
   ]
  },
  {
   "cell_type": "code",
   "execution_count": 17,
   "metadata": {},
   "outputs": [
    {
     "data": {
      "text/plain": [
       "True"
      ]
     },
     "execution_count": 17,
     "metadata": {},
     "output_type": "execute_result"
    }
   ],
   "source": [
    "a >= datetime.date.today()"
   ]
  },
  {
   "cell_type": "code",
   "execution_count": null,
   "metadata": {
    "collapsed": true
   },
   "outputs": [],
   "source": [
    ""
   ]
  },
  {
   "cell_type": "code",
   "execution_count": null,
   "metadata": {
    "collapsed": true
   },
   "outputs": [],
   "source": [
    ""
   ]
  },
  {
   "cell_type": "code",
   "execution_count": null,
   "metadata": {
    "collapsed": true
   },
   "outputs": [],
   "source": [
    ""
   ]
  },
  {
   "cell_type": "code",
   "execution_count": 97,
   "metadata": {
    "collapsed": false,
    "scrolled": false
   },
   "outputs": [
    {
     "ename": "InterfaceError",
     "evalue": "cursor already closed",
     "traceback": [
      "\u001b[0;31m---------------------------------------------------------------------------\u001b[0m",
      "\u001b[0;31mInterfaceError\u001b[0m                            Traceback (most recent call last)",
      "\u001b[0;32m<ipython-input-97-97689ab9e60e>\u001b[0m in \u001b[0;36m<module>\u001b[0;34m()\u001b[0m\n\u001b[0;32m----> 1\u001b[0;31m \u001b[0mcur\u001b[0m\u001b[0;34m.\u001b[0m\u001b[0mexecute\u001b[0m\u001b[0;34m(\u001b[0m\u001b[0;34m\"DROP TABLE IF EXISTS price_data\"\u001b[0m\u001b[0;34m)\u001b[0m\u001b[0;34m\u001b[0m\u001b[0m\n\u001b[0m\u001b[1;32m      2\u001b[0m \u001b[0mcur\u001b[0m\u001b[0;34m.\u001b[0m\u001b[0mexecute\u001b[0m\u001b[0;34m(\u001b[0m\u001b[0;34m\"CREATE TABLE price_data(ticker VARCHAR(30), date DATE, open REAL, high REAL, low REAL, close REAL, volume BIGINT, ex_dividend REAL, split_ratio REAL, adj_open REAL, adj_high REAL, adj_low REAL, adj_close REAL, adj_volume REAL)\"\u001b[0m\u001b[0;34m)\u001b[0m\u001b[0;34m\u001b[0m\u001b[0m\n\u001b[1;32m      3\u001b[0m \u001b[0mcon\u001b[0m\u001b[0;34m.\u001b[0m\u001b[0mcommit\u001b[0m\u001b[0;34m\u001b[0m\u001b[0m\n\u001b[1;32m      4\u001b[0m \u001b[0;31m#    date = models.DateField()\u001b[0m\u001b[0;34m\u001b[0m\u001b[0;34m\u001b[0m\u001b[0m\n\u001b[1;32m      5\u001b[0m \u001b[0;31m#    stock = models.ForeignKey(Stock)\u001b[0m\u001b[0;34m\u001b[0m\u001b[0;34m\u001b[0m\u001b[0m\n",
      "\u001b[0;31mInterfaceError\u001b[0m: cursor already closed"
     ],
     "output_type": "error"
    }
   ],
   "source": [
    "#    date = models.DateField()\n",
    "#    stock = models.ForeignKey(Stock)\n",
    "#    open = models.DecimalField(max_digits=10, decimal_places=2)\n",
    "#    high = models.DecimalField(max_digits=10, decimal_places=2)\n",
    "##    low = models.DecimalField(max_digits=10, decimal_places=2)\n",
    "#    close = models.DecimalField(max_digits=10, decimal_places=2)\n",
    "#    volume = models.PositiveIntegerField()\n",
    "#    ex_dividend = models.DecimalField(max_digits=10, decimal_places=2)\n",
    "#    split_ratio = models.DecimalField(max_digits=10, decimal_places=4)\n",
    "#    adj_open = models.DecimalField(max_digits=10, decimal_places=2)\n",
    "#    adj_high = models.DecimalField(max_digits=10, decimal_places=2)\n",
    "#    adj_low = models.DecimalField(max_digits=10, decimal_places=2)\n",
    "#    adj_close = models.DecimalField(max_digits=10, decimal_places=2)\n",
    "#    adj_volume = models.DecimalField(max_digits=15, decimal_places=2)\n",
    "#    objects = PriceHistoryManager()"
   ]
  },
  {
   "cell_type": "code",
   "execution_count": 98,
   "metadata": {
    "collapsed": false
   },
   "outputs": [],
   "source": [
    ""
   ]
  },
  {
   "cell_type": "code",
   "execution_count": 56,
   "metadata": {
    "collapsed": true
   },
   "outputs": [],
   "source": [
    "import quandl\n",
    "import pandas\n",
    "quandl.ApiConfig.api_key = 'puK-R-gM-ELyjbQx5KMA'"
   ]
  },
  {
   "cell_type": "code",
   "execution_count": 59,
   "metadata": {
    "collapsed": false
   },
   "outputs": [],
   "source": [
    "price_data_df = quandl.get('WIKI/{}'.format('FB'.replace('-', '_')), start_date=\"2016-10-04\", end_date=\"2016-10-04\")"
   ]
  },
  {
   "cell_type": "code",
   "execution_count": 70,
   "metadata": {
    "collapsed": false
   },
   "outputs": [
    {
     "data": {
      "text/html": [
       "<div>\n",
       "<table border=\"1\" class=\"dataframe\">\n",
       "  <thead>\n",
       "    <tr style=\"text-align: right;\">\n",
       "      <th></th>\n",
       "      <th>Open</th>\n",
       "      <th>High</th>\n",
       "      <th>Low</th>\n",
       "      <th>Close</th>\n",
       "      <th>Volume</th>\n",
       "      <th>Ex-Dividend</th>\n",
       "      <th>Split Ratio</th>\n",
       "      <th>Adj. Open</th>\n",
       "      <th>Adj. High</th>\n",
       "      <th>Adj. Low</th>\n",
       "      <th>Adj. Close</th>\n",
       "      <th>Adj. Volume</th>\n",
       "    </tr>\n",
       "    <tr>\n",
       "      <th>Date</th>\n",
       "      <th></th>\n",
       "      <th></th>\n",
       "      <th></th>\n",
       "      <th></th>\n",
       "      <th></th>\n",
       "      <th></th>\n",
       "      <th></th>\n",
       "      <th></th>\n",
       "      <th></th>\n",
       "      <th></th>\n",
       "      <th></th>\n",
       "      <th></th>\n",
       "    </tr>\n",
       "  </thead>\n",
       "  <tbody>\n",
       "    <tr>\n",
       "      <th>2016-10-04</th>\n",
       "      <td>129.17</td>\n",
       "      <td>129.2765</td>\n",
       "      <td>127.5499</td>\n",
       "      <td>128.18</td>\n",
       "      <td>14250845.0</td>\n",
       "      <td>0.0</td>\n",
       "      <td>1.0</td>\n",
       "      <td>129.17</td>\n",
       "      <td>129.2765</td>\n",
       "      <td>127.5499</td>\n",
       "      <td>128.18</td>\n",
       "      <td>14250845.0</td>\n",
       "    </tr>\n",
       "  </tbody>\n",
       "</table>\n",
       "</div>"
      ],
      "text/plain": [
       "              Open      High       Low   Close      Volume  Ex-Dividend  \\\n",
       "Date                                                                      \n",
       "2016-10-04  129.17  129.2765  127.5499  128.18  14250845.0          0.0   \n",
       "\n",
       "            Split Ratio  Adj. Open  Adj. High  Adj. Low  Adj. Close  \\\n",
       "Date                                                                  \n",
       "2016-10-04          1.0     129.17   129.2765  127.5499      128.18   \n",
       "\n",
       "            Adj. Volume  \n",
       "Date                     \n",
       "2016-10-04   14250845.0  "
      ]
     },
     "execution_count": 70,
     "metadata": {},
     "output_type": "execute_result"
    }
   ],
   "source": [
    "t = price_data_df.index.values[0]\n",
    "type(t)\n",
    "price_data_df"
   ]
  },
  {
   "cell_type": "code",
   "execution_count": 42,
   "metadata": {
    "collapsed": true
   },
   "outputs": [],
   "source": [
    "import analysis\n",
    "import pandas as pd\n",
    "import analysis\n",
    "import price_data\n",
    "\n",
    "#a = [1.9, 2.8, 3.7, 4.6, 5.5, 6.4, 7.3, 8.2, 9.1]\n",
    "#dates = pd.date_range('20130101', periods=9)\n",
    "#df = pd.DataFrame({'DATES':dates, 'A':a})\n",
    "#df\n",
    "\n",
    "columns = 'date, ticker, adj_close, adj_volume'\n",
    "#df = analysis.get_df(tickers=('FB', 'TSLA'), columns=columns)\n",
    "df = analysis.get_df()\n",
    "df.head()"
   ]
  },
  {
   "cell_type": "code",
   "execution_count": 29,
   "metadata": {},
   "outputs": [
    {
     "data": {
      "text/plain": [
       "DatetimeIndex(['2013-01-01', '2013-01-02', '2013-01-03', '2013-01-04',\n               '2013-01-05', '2013-01-06', '2013-01-07', '2013-01-08',\n               '2013-01-09'],\n              dtype='datetime64[ns]', freq='D')"
      ]
     },
     "execution_count": 29,
     "metadata": {},
     "output_type": "execute_result"
    }
   ],
   "source": [
    ""
   ]
  },
  {
   "cell_type": "code",
   "execution_count": null,
   "metadata": {},
   "outputs": [],
   "source": [
    ""
   ]
  },
  {
   "cell_type": "code",
   "execution_count": null,
   "metadata": {},
   "outputs": [],
   "source": [
    ""
   ]
  },
  {
   "cell_type": "code",
   "execution_count": null,
   "metadata": {},
   "outputs": [],
   "source": [
    ""
   ]
  }
 ],
 "metadata": {
  "kernelspec": {
   "display_name": "Python 2",
   "language": "python",
   "name": "python2"
  },
  "language_info": {
   "codemirror_mode": {
    "name": "ipython",
    "version": 2.0
   },
   "file_extension": ".py",
   "mimetype": "text/x-python",
   "name": "python",
   "nbconvert_exporter": "python",
   "pygments_lexer": "ipython2",
   "version": "2.7.6"
  }
 },
 "nbformat": 4,
 "nbformat_minor": 0
}