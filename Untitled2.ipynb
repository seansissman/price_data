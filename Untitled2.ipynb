{
 "cells": [
  {
   "cell_type": "code",
   "execution_count": 1,
   "metadata": {
    "collapsed": true
   },
   "outputs": [],
   "source": [
    "import price_data\n",
    "import psycopg2\n",
    "import pandas as pd\n",
    "import datetime"
   ]
  },
  {
   "cell_type": "code",
   "execution_count": 49,
   "metadata": {
    "collapsed": true
   },
   "outputs": [],
   "source": [
    "def get_df(columns='*', tickers=(), startdate='', enddate=''):\n",
    "    \"\"\" Returns the date of the last table update. \"\"\"\n",
    "    con = None\n",
    "    qfilter = ''\n",
    "\n",
    "    if tickers:\n",
    "        qfilter = ' WHERE ticker in {}'.format(tickers)\n",
    "    if startdate:\n",
    "        f = ' date >= \\'{}\\'::DATE'.format(startdate)\n",
    "        if qfilter:\n",
    "            qfilter = qfilter + ' AND {}'.format(str(f))\n",
    "        else:\n",
    "            qfilter = ' WHERE {}'.format(f)\n",
    "    if enddate:\n",
    "        f = ' date <= \\'{}\\'::DATE'.format(enddate)\n",
    "        if qfilter:\n",
    "            qfilter = qfilter + ' AND {}'.format(f)\n",
    "        else:\n",
    "            qfilter = ' WHERE {}'.format(f)\n",
    "\n",
    "    sql = 'SELECT {} FROM price_data{}'.format(columns, qfilter)\n",
    "    try:\n",
    "        con = psycopg2.connect(\"dbname='tradingdb' user='trader' \"\n",
    "                               \"host='localhost' password='123456'\")\n",
    "        return pd.read_sql(sql, con)\n",
    "    except psycopg2.OperationalError, e:\n",
    "        print \"Unable to connect to the database:\\n\" + str(e)\n",
    "        return None\n",
    "    finally:\n",
    "        if con:\n",
    "            print \"closing\"\n",
    "            con.close()\n",
    "\n",
    "\n",
    "def sma(df, period):\n",
    "    return pd.rolling_mean(df, window=period)\n",
    "\n",
    "\n",
    "def rsi(df, period=210):\n",
    "    if len(df) >= period:\n",
    "        ma = sma(df, period)\n",
    "        return df['adj_close'] / ma['adj_close']\n",
    "    else:\n",
    "        return None\n",
    "    return rsi_ratio"
   ]
  },
  {
   "cell_type": "code",
   "execution_count": 50,
   "metadata": {
    "collapsed": false
   },
   "outputs": [
    {
     "name": "stdout",
     "output_type": "stream",
     "text": [
      "closing\n",
      "closing\n"
     ]
    },
    {
     "data": {
      "text/html": [
       "<div>\n",
       "<table border=\"1\" class=\"dataframe\">\n",
       "  <thead>\n",
       "    <tr style=\"text-align: right;\">\n",
       "      <th></th>\n",
       "      <th>yesterday</th>\n",
       "      <th>today</th>\n",
       "    </tr>\n",
       "  </thead>\n",
       "  <tbody>\n",
       "    <tr>\n",
       "      <th>INTX</th>\n",
       "      <td>NaN</td>\n",
       "      <td>NaN</td>\n",
       "    </tr>\n",
       "    <tr>\n",
       "      <th>INVN</th>\n",
       "      <td>NaN</td>\n",
       "      <td>NaN</td>\n",
       "    </tr>\n",
       "    <tr>\n",
       "      <th>INWK</th>\n",
       "      <td>NaN</td>\n",
       "      <td>NaN</td>\n",
       "    </tr>\n",
       "  </tbody>\n",
       "</table>\n",
       "</div>"
      ],
      "text/plain": [
       "     yesterday today\n",
       "INTX       NaN   NaN\n",
       "INVN       NaN   NaN\n",
       "INWK       NaN   NaN"
      ]
     },
     "execution_count": 50,
     "metadata": {},
     "output_type": "execute_result"
    }
   ],
   "source": [
    "sdate = datetime.date.today() - datetime.timedelta(days=700)\n",
    "yesterday = datetime.date.today() - datetime.timedelta(days=1)\n",
    "all_tickers = price_data.get_current_tickers()\n",
    "# ratios_series = pd.Series(None, index=all_tickers)\n",
    "ratios = pd.DataFrame(None, columns=['yesterday', 'today'], index=all_tickers)\n",
    "ratios.tail(3)"
   ]
  },
  {
   "cell_type": "code",
   "execution_count": 51,
   "metadata": {
    "collapsed": false
   },
   "outputs": [
    {
     "name": "stdout",
     "output_type": "stream",
     "text": [
      "closing\n"
     ]
    },
    {
     "data": {
      "text/html": [
       "<div>\n",
       "<table border=\"1\" class=\"dataframe\">\n",
       "  <thead>\n",
       "    <tr style=\"text-align: right;\">\n",
       "      <th></th>\n",
       "      <th></th>\n",
       "      <th>adj_close</th>\n",
       "    </tr>\n",
       "    <tr>\n",
       "      <th>ticker</th>\n",
       "      <th>date</th>\n",
       "      <th></th>\n",
       "    </tr>\n",
       "  </thead>\n",
       "  <tbody>\n",
       "    <tr>\n",
       "      <th rowspan=\"3\" valign=\"top\">ZUMZ</th>\n",
       "      <th>2016-11-16</th>\n",
       "      <td>24.90</td>\n",
       "    </tr>\n",
       "    <tr>\n",
       "      <th>2016-11-17</th>\n",
       "      <td>24.85</td>\n",
       "    </tr>\n",
       "    <tr>\n",
       "      <th>2016-11-18</th>\n",
       "      <td>24.55</td>\n",
       "    </tr>\n",
       "  </tbody>\n",
       "</table>\n",
       "</div>"
      ],
      "text/plain": [
       "                   adj_close\n",
       "ticker date                 \n",
       "ZUMZ   2016-11-16      24.90\n",
       "       2016-11-17      24.85\n",
       "       2016-11-18      24.55"
      ]
     },
     "execution_count": 51,
     "metadata": {},
     "output_type": "execute_result"
    }
   ],
   "source": [
    "all_tickers_df = get_df(columns='date, ticker, adj_close', startdate=sdate)\n",
    "sorted_df = all_tickers_df.set_index(['ticker', 'date']).sort_index(0)\n",
    "sorted_df.tail(3)"
   ]
  },
  {
   "cell_type": "code",
   "execution_count": 52,
   "metadata": {
    "collapsed": false
   },
   "outputs": [
    {
     "name": "stderr",
     "output_type": "stream",
     "text": [
      "/home/sean/projects/price_env/price/lib/python2.7/site-packages/ipykernel/__main__.py:36: FutureWarning: pd.rolling_mean is deprecated for DataFrame and will be removed in a future version, replace with \n",
      "\tDataFrame.rolling(window=427,center=False).mean()\n"
     ]
    }
   ],
   "source": [
    "for ticker in all_tickers:\n",
    "    df = sorted_df.loc[ticker]\n",
    "    df['sma'] = sma(df, 427)#.adj_close\n",
    "    df['rsi'] = rsi(df, period=427)\n",
    "    ratios.loc[ticker] = [df.iloc[-2].rsi, df.iloc[-1].rsi]"
   ]
  },
  {
   "cell_type": "code",
   "execution_count": 53,
   "metadata": {
    "collapsed": false
   },
   "outputs": [
    {
     "data": {
      "text/html": [
       "<div>\n",
       "<table border=\"1\" class=\"dataframe\">\n",
       "  <thead>\n",
       "    <tr style=\"text-align: right;\">\n",
       "      <th></th>\n",
       "      <th>adj_close</th>\n",
       "      <th>sma</th>\n",
       "      <th>rsi</th>\n",
       "    </tr>\n",
       "    <tr>\n",
       "      <th>date</th>\n",
       "      <th></th>\n",
       "      <th></th>\n",
       "      <th></th>\n",
       "    </tr>\n",
       "  </thead>\n",
       "  <tbody>\n",
       "    <tr>\n",
       "      <th>2016-11-25</th>\n",
       "      <td>9.89</td>\n",
       "      <td>7.638548</td>\n",
       "      <td>1.294749</td>\n",
       "    </tr>\n",
       "    <tr>\n",
       "      <th>2016-11-28</th>\n",
       "      <td>9.56</td>\n",
       "      <td>7.645574</td>\n",
       "      <td>1.250397</td>\n",
       "    </tr>\n",
       "    <tr>\n",
       "      <th>2016-11-29</th>\n",
       "      <td>9.46</td>\n",
       "      <td>7.651920</td>\n",
       "      <td>1.236291</td>\n",
       "    </tr>\n",
       "    <tr>\n",
       "      <th>2016-11-30</th>\n",
       "      <td>9.25</td>\n",
       "      <td>7.657564</td>\n",
       "      <td>1.207956</td>\n",
       "    </tr>\n",
       "    <tr>\n",
       "      <th>2016-12-01</th>\n",
       "      <td>8.96</td>\n",
       "      <td>7.662646</td>\n",
       "      <td>1.169309</td>\n",
       "    </tr>\n",
       "  </tbody>\n",
       "</table>\n",
       "</div>"
      ],
      "text/plain": [
       "            adj_close       sma       rsi\n",
       "date                                     \n",
       "2016-11-25       9.89  7.638548  1.294749\n",
       "2016-11-28       9.56  7.645574  1.250397\n",
       "2016-11-29       9.46  7.651920  1.236291\n",
       "2016-11-30       9.25  7.657564  1.207956\n",
       "2016-12-01       8.96  7.662646  1.169309"
      ]
     },
     "execution_count": 53,
     "metadata": {},
     "output_type": "execute_result"
    }
   ],
   "source": [
    "df.tail()"
   ]
  },
  {
   "cell_type": "code",
   "execution_count": 54,
   "metadata": {
    "collapsed": true
   },
   "outputs": [],
   "source": [
    "ratios = ratios[ratios.notnull()]\n",
    "\n",
    "# ratios.sort_values(inplace=True)"
   ]
  },
  {
   "cell_type": "code",
   "execution_count": 55,
   "metadata": {
    "collapsed": false
   },
   "outputs": [
    {
     "data": {
      "text/html": [
       "<div>\n",
       "<table border=\"1\" class=\"dataframe\">\n",
       "  <thead>\n",
       "    <tr style=\"text-align: right;\">\n",
       "      <th></th>\n",
       "      <th>yesterday</th>\n",
       "      <th>today</th>\n",
       "    </tr>\n",
       "  </thead>\n",
       "  <tbody>\n",
       "    <tr>\n",
       "      <th>CHFC</th>\n",
       "      <td>1.44925</td>\n",
       "      <td>1.4736</td>\n",
       "    </tr>\n",
       "    <tr>\n",
       "      <th>CMA</th>\n",
       "      <td>1.44482</td>\n",
       "      <td>1.47473</td>\n",
       "    </tr>\n",
       "    <tr>\n",
       "      <th>CORT</th>\n",
       "      <td>1.55801</td>\n",
       "      <td>1.47659</td>\n",
       "    </tr>\n",
       "    <tr>\n",
       "      <th>GIMO</th>\n",
       "      <td>1.61688</td>\n",
       "      <td>1.4761</td>\n",
       "    </tr>\n",
       "  </tbody>\n",
       "</table>\n",
       "</div>"
      ],
      "text/plain": [
       "     yesterday    today\n",
       "CHFC   1.44925   1.4736\n",
       "CMA    1.44482  1.47473\n",
       "CORT   1.55801  1.47659\n",
       "GIMO   1.61688   1.4761"
      ]
     },
     "execution_count": 55,
     "metadata": {},
     "output_type": "execute_result"
    }
   ],
   "source": [
    "ratios[(ratios.today >= 1.47) & (ratios.today < 1.48) ]#& (ratios.yesterday < ratios.today)]"
   ]
  },
  {
   "cell_type": "code",
   "execution_count": null,
   "metadata": {
    "collapsed": true
   },
   "outputs": [],
   "source": []
  },
  {
   "cell_type": "code",
   "execution_count": null,
   "metadata": {
    "collapsed": true
   },
   "outputs": [],
   "source": []
  },
  {
   "cell_type": "code",
   "execution_count": null,
   "metadata": {
    "collapsed": true
   },
   "outputs": [],
   "source": []
  },
  {
   "cell_type": "code",
   "execution_count": null,
   "metadata": {
    "collapsed": true
   },
   "outputs": [],
   "source": []
  }
 ],
 "metadata": {
  "kernelspec": {
   "display_name": "Python 2",
   "language": "python",
   "name": "python2"
  },
  "language_info": {
   "codemirror_mode": {
    "name": "ipython",
    "version": 2
   },
   "file_extension": ".py",
   "mimetype": "text/x-python",
   "name": "python",
   "nbconvert_exporter": "python",
   "pygments_lexer": "ipython2",
   "version": "2.7.6"
  }
 },
 "nbformat": 4,
 "nbformat_minor": 1
}
